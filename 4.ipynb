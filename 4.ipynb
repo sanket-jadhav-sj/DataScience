{
 "cells": [
  {
   "cell_type": "code",
   "execution_count": 12,
   "id": "f14201a2-e586-47a9-aba8-a70a19f7681f",
   "metadata": {},
   "outputs": [
    {
     "name": "stdout",
     "output_type": "stream",
     "text": [
      "0\n",
      "1\n",
      "2\n",
      "3\n",
      "4\n"
     ]
    }
   ],
   "source": [
    "# FOR LOOP : the loop get executed upto the defined conditions\n",
    "\n",
    "\n",
    "# range(): generating sequence of the number 1,2,3,4,5\n",
    "# range(stop):\n",
    "\n",
    "for i in range(5):\n",
    "    print(i)"
   ]
  },
  {
   "cell_type": "code",
   "execution_count": 4,
   "id": "1c9c2fba-fd02-4073-8014-be83ec7335a5",
   "metadata": {},
   "outputs": [
    {
     "name": "stdout",
     "output_type": "stream",
     "text": [
      "2\n",
      "3\n",
      "4\n"
     ]
    }
   ],
   "source": [
    "# the range(i,j) where 'i' is inclusive and 'j' is exclusive\n",
    "# range(start, stop):\n",
    "\n",
    "for i in range(2,5):   # i= 2,3,4\n",
    "    print(i)"
   ]
  },
  {
   "cell_type": "code",
   "execution_count": 6,
   "id": "e5c106a0-a449-4275-9390-cf0b83bfc3d4",
   "metadata": {},
   "outputs": [
    {
     "name": "stdout",
     "output_type": "stream",
     "text": [
      "0\n",
      "2\n",
      "4\n",
      "6\n",
      "8\n",
      "10\n",
      "12\n",
      "14\n",
      "16\n",
      "18\n"
     ]
    }
   ],
   "source": [
    "# range(start, stop, step/skip):\n",
    "\n",
    "for i in range(0, 20, 2):\n",
    "    print(i)\n",
    "    "
   ]
  },
  {
   "cell_type": "code",
   "execution_count": 10,
   "id": "f9c7fd69-54f7-45f0-96c3-02a541693596",
   "metadata": {},
   "outputs": [
    {
     "name": "stdout",
     "output_type": "stream",
     "text": [
      "apple\n",
      "cherry\n",
      "banana\n",
      "grapes\n"
     ]
    }
   ],
   "source": [
    "# for loop on the list \n",
    "\n",
    "fruits = [\"apple\",\"cherry\",\"banana\",\"grapes\"]\n",
    "\n",
    "for i in fruits:\n",
    "    print(i)"
   ]
  },
  {
   "cell_type": "code",
   "execution_count": 11,
   "id": "8addccd2-1a37-4a75-919b-e321ddded150",
   "metadata": {},
   "outputs": [
    {
     "name": "stdout",
     "output_type": "stream",
     "text": [
      "India\n",
      "UK\n",
      "USA\n",
      "Germany  \n"
     ]
    }
   ],
   "source": [
    "country = [\"India\",\"UK\",\"USA\", \"Germany  \"]\n",
    "\n",
    "for ct in country:\n",
    "    print(ct)"
   ]
  },
  {
   "cell_type": "code",
   "execution_count": 4,
   "id": "d5d15260-07c2-4d34-a4ce-a9ba833ed2d8",
   "metadata": {},
   "outputs": [
    {
     "name": "stdout",
     "output_type": "stream",
     "text": [
      "India\n",
      "UK\n",
      "USA\n",
      "Germany  \n",
      "4\n"
     ]
    }
   ],
   "source": [
    "country = [\"India\",\"UK\",\"USA\", \"Germany  \"]\n",
    "\n",
    "for index in range(len(country)):\n",
    "    print(country[index])\n",
    "    \n",
    "print(len(country))"
   ]
  },
  {
   "cell_type": "code",
   "execution_count": 11,
   "id": "5f18bedf-d491-48f2-a77e-fd48c76fd166",
   "metadata": {},
   "outputs": [
    {
     "name": "stdout",
     "output_type": "stream",
     "text": [
      "* \n",
      "* * \n",
      "* * * \n",
      "* * * * \n",
      "* * * * * \n"
     ]
    }
   ],
   "source": [
    "# NESTED for loop\n",
    "\n",
    "rows = 5\n",
    "\n",
    "for i in range(rows):\n",
    "    for j in range(i+1):\n",
    "        print(\"*\", end=\" \")    # the print move us to the next line but the end=\"\" help to write in the same line\n",
    "    print()"
   ]
  },
  {
   "cell_type": "code",
   "execution_count": 18,
   "id": "1291eaba-63a3-4e5f-8d11-111356b563fb",
   "metadata": {},
   "outputs": [
    {
     "name": "stdout",
     "output_type": "stream",
     "text": [
      "1\n",
      "2\n",
      "3\n",
      "4\n",
      "5\n"
     ]
    }
   ],
   "source": [
    "# WHILE lOOP : The statement get executed until the condition is true\n",
    "\n",
    "count = 1\n",
    "while count <= 5:\n",
    "    print(count)\n",
    "    count += 1"
   ]
  },
  {
   "cell_type": "code",
   "execution_count": 1,
   "id": "f7a7fcac-0e24-47d2-b6a6-de919217b77b",
   "metadata": {},
   "outputs": [
    {
     "name": "stdin",
     "output_type": "stream",
     "text": [
      "Enter a word (or quit to exit):  today is sunday\n"
     ]
    },
    {
     "name": "stdout",
     "output_type": "stream",
     "text": [
      "You entered:  today is sunday\n"
     ]
    },
    {
     "name": "stdin",
     "output_type": "stream",
     "text": [
      "Enter a word (or quit to exit):  monday is buzy day\n"
     ]
    },
    {
     "name": "stdout",
     "output_type": "stream",
     "text": [
      "You entered:  monday is buzy day\n"
     ]
    },
    {
     "name": "stdin",
     "output_type": "stream",
     "text": [
      "Enter a word (or quit to exit):  I need to study daily\n"
     ]
    },
    {
     "name": "stdout",
     "output_type": "stream",
     "text": [
      "You entered:  I need to study daily\n"
     ]
    },
    {
     "name": "stdin",
     "output_type": "stream",
     "text": [
      "Enter a word (or quit to exit):  quit\n"
     ]
    },
    {
     "name": "stdout",
     "output_type": "stream",
     "text": [
      "You entered:  quit\n"
     ]
    }
   ],
   "source": [
    "word = \"\"\n",
    "\n",
    "while word != \"quit\":\n",
    "    word = input(\"Enter a word (or quit to exit): \")\n",
    "    print(\"You entered: \", word)\n"
   ]
  },
  {
   "cell_type": "code",
   "execution_count": 1,
   "id": "85458719-ccca-4d8f-911a-e164e2f0ba1b",
   "metadata": {},
   "outputs": [
    {
     "name": "stdout",
     "output_type": "stream",
     "text": [
      "Old salary is:\n",
      "[30000, 40000, 45000, 40000]\n",
      "Updated Salary is:\n",
      "[30000, 40000, 45000, 42000.0]\n"
     ]
    }
   ],
   "source": [
    "# While is genrally use when stop condition will be satisfied, we do not know\n",
    "\n",
    "# We have a list nm = [Alice, Tom, Marry, James]\n",
    "# Salary = []\n",
    "# give 5% bonus to James only as he is performing great. Boss is happy\n",
    "\n",
    "names = [\"Alice\",\"Tom\",\"Marry\",\"James\"]\n",
    "salary = [30000, 40000, 45000, 40000]\n",
    "\n",
    "print(\"Old salary is:\")\n",
    "print(salary)\n",
    "# First sub problem is we will iterate both lists\n",
    "# We need to update salary of James only\n",
    "\n",
    "for i in range(len(names)):\n",
    "    if names[i] == \"James\":\n",
    "        increment = salary[i] * 0.05\n",
    "        salary[i] += increment\n",
    "\n",
    "print(\"Updated Salary is:\")\n",
    "print(salary)\n"
   ]
  },
  {
   "cell_type": "code",
   "execution_count": null,
   "id": "2bb11873-8148-4d4f-a878-0a8b9ada1ec2",
   "metadata": {},
   "outputs": [],
   "source": []
  },
  {
   "cell_type": "code",
   "execution_count": null,
   "id": "713ef781-aa75-469c-b311-7c0175439b1a",
   "metadata": {},
   "outputs": [],
   "source": []
  }
 ],
 "metadata": {
  "kernelspec": {
   "display_name": "Python 3 (ipykernel)",
   "language": "python",
   "name": "python3"
  },
  "language_info": {
   "codemirror_mode": {
    "name": "ipython",
    "version": 3
   },
   "file_extension": ".py",
   "mimetype": "text/x-python",
   "name": "python",
   "nbconvert_exporter": "python",
   "pygments_lexer": "ipython3",
   "version": "3.12.4"
  }
 },
 "nbformat": 4,
 "nbformat_minor": 5
}
