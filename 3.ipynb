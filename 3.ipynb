{
 "cells": [
  {
   "cell_type": "code",
   "execution_count": 12,
   "id": "355dac76-aede-45d8-a895-82c6a6178a84",
   "metadata": {},
   "outputs": [
    {
     "name": "stdout",
     "output_type": "stream",
     "text": [
      "57\n",
      "43\n",
      "7.142857142857143\n",
      "350\n"
     ]
    }
   ],
   "source": [
    "# OPERATORS\n",
    "\n",
    "# arithmetc operators: +, -, /, *, //, **, %,....\n",
    "\n",
    "a = 50\n",
    "b = 7\n",
    "\n",
    "print(a+b)\n",
    "print(a-b)\n",
    "print(a/b)\n",
    "print(a*b)\n"
   ]
  },
  {
   "cell_type": "code",
   "execution_count": 13,
   "id": "0b73815d-49d1-41bd-b087-5bd56918cbd9",
   "metadata": {},
   "outputs": [
    {
     "name": "stdout",
     "output_type": "stream",
     "text": [
      "7\n",
      "2\n"
     ]
    }
   ],
   "source": [
    "   # Floor Division : lowest possible value for the determined decimal value\n",
    "\n",
    "print(a//b)\n",
    "print(7//3)"
   ]
  },
  {
   "cell_type": "code",
   "execution_count": 3,
   "id": "af5f80a2-8c65-4d8e-96a1-5215b99f64ed",
   "metadata": {},
   "outputs": [
    {
     "name": "stdout",
     "output_type": "stream",
     "text": [
      "3\n"
     ]
    }
   ],
   "source": [
    "    # Modulus : gives the remainder after the division\n",
    "\n",
    "a = 103\n",
    "b = 5\n",
    "\n",
    "print(a%b)\n"
   ]
  },
  {
   "cell_type": "code",
   "execution_count": 4,
   "id": "154cc6cd-648c-449e-bc2e-71d54ecaa5e0",
   "metadata": {},
   "outputs": [
    {
     "name": "stdout",
     "output_type": "stream",
     "text": [
      "125\n"
     ]
    }
   ],
   "source": [
    "    # Exponential operator :  a**b means a to power of b (or) a^b\n",
    "\n",
    "a = 5\n",
    "b = 3\n",
    "print(a**b)  # 5*5*5\n"
   ]
  },
  {
   "cell_type": "code",
   "execution_count": 5,
   "id": "c5e0a9a3-04eb-4cbf-b9be-b7cf07fc71b4",
   "metadata": {},
   "outputs": [
    {
     "name": "stdout",
     "output_type": "stream",
     "text": [
      "False\n",
      "True\n",
      "False\n",
      "True\n",
      "True\n",
      "False\n"
     ]
    }
   ],
   "source": [
    "     # Comparison operators : to compare these value, answer will be in true or false\n",
    "\n",
    "a = 10\n",
    "b = 20\n",
    "\n",
    "print(a==b)\n",
    "print(a!=b)\n",
    "print(a>b)\n",
    "print(a<b)\n",
    "print(a<=b)\n",
    "print(a>=b)"
   ]
  },
  {
   "cell_type": "code",
   "execution_count": 1,
   "id": "e3256e12-6b96-43a6-ba23-b0b8503bca75",
   "metadata": {},
   "outputs": [
    {
     "name": "stdout",
     "output_type": "stream",
     "text": [
      "False\n",
      "True\n",
      "False\n",
      "True\n"
     ]
    }
   ],
   "source": [
    "     # Logical operator: and ==> both must be true (or) same, so anwer will be true otherwise false\n",
    "     #                   or ===> One of them must true, answer is true.\n",
    "     #                   not ==> Opposite to what you have.\n",
    "\n",
    "a = True\n",
    "b = False \n",
    "\n",
    "print(a and b)\n",
    "print(a or b)\n",
    "print(not a)\n",
    "print(not b) "
   ]
  },
  {
   "cell_type": "code",
   "execution_count": 2,
   "id": "e9197342-7d9a-4e83-9cae-b6a3ce669018",
   "metadata": {},
   "outputs": [
    {
     "name": "stdout",
     "output_type": "stream",
     "text": [
      "2\n",
      "14\n",
      "-11\n",
      "12\n",
      "2\n",
      "40\n"
     ]
    }
   ],
   "source": [
    "      # Bitwise operator : works on the binary numbers i.e. 0, 1\n",
    "      # AND  : & (just like multiply if both corresponding elements are 1 then only the corresponding become 1)\n",
    "      # OR   : | (addition: if any one of the corresponding bit is 1 them the output is 1)\n",
    "      # NOT  : ~ (convert all the 1 in 0's and 0 in the 1's)\n",
    "      # XOR  : ^ ( if the corresponding bits are same then the answer is 0, and if the both bits are different then the answer is 1 )\n",
    "      # Right Shift :  Used to shift the binary form of number to right by given number of the integer value\n",
    "      # Left shift  : Used to shift the binary form of number to left by given number of the integer value \n",
    "\n",
    "\n",
    "a = 10     #  1010\n",
    "b = 6      #  0110 \n",
    "print(a & b)\n",
    "\n",
    "print(a | b)\n",
    "\n",
    "print(~a)\n",
    "\n",
    "print(a ^ b)\n",
    "\n",
    "result = a >> 2 # 1010 ==> 0010\n",
    "print(result)\n",
    "\n",
    "result = a << 2 # 1010 ==> 101000\n",
    "print(result)\n",
    "\n"
   ]
  },
  {
   "cell_type": "code",
   "execution_count": 16,
   "id": "a06bbb7d-8650-4b7b-bdd2-2e112da2dace",
   "metadata": {},
   "outputs": [
    {
     "name": "stdout",
     "output_type": "stream",
     "text": [
      "8\n",
      "5\n",
      "15\n",
      "5.0\n"
     ]
    }
   ],
   "source": [
    "        # Assignment operators : \n",
    "\n",
    "a = 5\n",
    "\n",
    "a += 3    # a = a + 3\n",
    "print(a)\n",
    "\n",
    "a -= 3    # a = a - 3\n",
    "print(a)\n",
    "\n",
    "\n",
    "a *= 3    # a = a * 3\n",
    "print(a)\n",
    "\n",
    "a /= 3    # a = a / 3\n",
    "print(a)"
   ]
  },
  {
   "cell_type": "code",
   "execution_count": 13,
   "id": "5a2a83fb-319c-4670-9293-062adc294eec",
   "metadata": {},
   "outputs": [
    {
     "data": {
      "text/plain": [
       "'0b1110'"
      ]
     },
     "execution_count": 13,
     "metadata": {},
     "output_type": "execute_result"
    }
   ],
   "source": [
    "bin(14)   # this is used for converting in the binary"
   ]
  },
  {
   "cell_type": "code",
   "execution_count": 6,
   "id": "182032b5-785f-4972-b6ce-b928cf845251",
   "metadata": {},
   "outputs": [
    {
     "name": "stdin",
     "output_type": "stream",
     "text": [
      "Roll no: 4045\n"
     ]
    },
    {
     "name": "stdout",
     "output_type": "stream",
     "text": [
      "Welcome to, 4045\n"
     ]
    },
    {
     "name": "stdin",
     "output_type": "stream",
     "text": [
      "Enter the address :  Maharashtra\n"
     ]
    },
    {
     "name": "stdout",
     "output_type": "stream",
     "text": [
      "So,  your Stay at Maharashtra\n"
     ]
    }
   ],
   "source": [
    "#Standard INPUT : taking input from the users\n",
    "\n",
    "rn = input(\"Roll no:\")\n",
    "print(f\"Welcome to, {rn}\")\n",
    "\n",
    "addr = input(\"Enter the address : \")\n",
    "print(f\"So,  your Stay at {addr}\")\n"
   ]
  },
  {
   "cell_type": "code",
   "execution_count": 1,
   "id": "590c67d1-641a-4d2a-adc3-3e36d61168fc",
   "metadata": {},
   "outputs": [
    {
     "name": "stdout",
     "output_type": "stream",
     "text": [
      "You can't Vote due to age limitation\n"
     ]
    }
   ],
   "source": [
    "# IF Statement\n",
    "\n",
    "\n",
    "age = 5 \n",
    "if age >= 18:\n",
    "    print(\"You can Vote\")\n",
    "else:\n",
    "    print(\"You can't Vote due to age limitation\")"
   ]
  },
  {
   "cell_type": "code",
   "execution_count": 2,
   "id": "b12932d6-88aa-4f3d-afc1-2daad15c6b22",
   "metadata": {},
   "outputs": [
    {
     "name": "stdout",
     "output_type": "stream",
     "text": [
      "Good grade, A\n"
     ]
    }
   ],
   "source": [
    "score = 85\n",
    "if  score >= 90:\n",
    "    print(\"Excellent grade, A+\")\n",
    "elif score >= 80:\n",
    "    print(\"Good grade, A\")\n",
    "elif score >= 70:\n",
    "    print(\"Average grade, B\")\n",
    "else :\n",
    "    print(\"Need to upgrade the grades, C\")"
   ]
  },
  {
   "cell_type": "code",
   "execution_count": 19,
   "id": "bec915ed-1e1e-4390-b657-79f706cdad55",
   "metadata": {},
   "outputs": [
    {
     "name": "stdin",
     "output_type": "stream",
     "text": [
      "Enter the first number:  10\n",
      "Enter the second number:  11\n",
      "Enter the third number:  9\n"
     ]
    },
    {
     "name": "stdout",
     "output_type": "stream",
     "text": [
      "Largest number is: 11\n"
     ]
    }
   ],
   "source": [
    "num1 = int(input(\"Enter the first number: \"))\n",
    "num2 = int(input(\"Enter the second number: \"))\n",
    "num3 = int(input(\"Enter the third number: \"))\n",
    "\n",
    "\n",
    "if (num1 >= num2) and (num1 >= num3):\n",
    "    largest = num1  \n",
    "elif (num2 >= num3):\n",
    "    largest = num2  \n",
    "else:\n",
    "    largest = num3\n",
    "\n",
    "print(\"Largest number is:\", largest)\n",
    "# print(f\"Largest number is: {largest}\" )\n"
   ]
  },
  {
   "cell_type": "code",
   "execution_count": 4,
   "id": "d797b6d9-04c3-49cd-b483-269e260b9801",
   "metadata": {},
   "outputs": [
    {
     "ename": "IndentationError",
     "evalue": "expected an indented block after 'if' statement on line 9 (926248244.py, line 10)",
     "output_type": "error",
     "traceback": [
      "\u001b[1;36m  Cell \u001b[1;32mIn[4], line 10\u001b[1;36m\u001b[0m\n\u001b[1;33m    print(f\"{num1} + {num2} =\", num1 + num2)\u001b[0m\n\u001b[1;37m    ^\u001b[0m\n\u001b[1;31mIndentationError\u001b[0m\u001b[1;31m:\u001b[0m expected an indented block after 'if' statement on line 9\n"
     ]
    }
   ],
   "source": [
    "    # Let us make a simple calculator which takes the choice of operation from user \n",
    "    # Also user enter two numbers which needed to be computed.\n",
    "\n",
    "choice = input(\"Enter your choice (add/sub/div/mul): \").lower()\n",
    "\n",
    "num1 = int(input(\"Enter the first number: \"))\n",
    "num2 = int(input(\"Enter the second number: \"))\n",
    "\n",
    "if choice == \"add\":\n",
    "    print(f\"{num1} + {num2} =\", num1 + num2)\n",
    "elif choice == \"sub\":\n",
    "    print(f\"{num1} - {num2} =\", num1 - num2)\n",
    "elif choice == \"div\":\n",
    "    print(f\"{num1} / {num2} =\", num1 / num2)\n",
    "elif choice == \"mul\":\n",
    "    print(f\"{num1} * {num2} =\", num1 * num2)\n",
    "else:\n",
    "    print(\"Wrong choice!!!\")"
   ]
  },
  {
   "cell_type": "code",
   "execution_count": 7,
   "id": "25441aa9-79f3-4b5d-bbed-a9004ea94dad",
   "metadata": {},
   "outputs": [
    {
     "name": "stdin",
     "output_type": "stream",
     "text": [
      "Enter the designation (Executive/Manager/Senior Manager):  Manager\n"
     ]
    },
    {
     "name": "stdout",
     "output_type": "stream",
     "text": [
      "The salary of the Manager is: 60000 - 90000\n"
     ]
    }
   ],
   "source": [
    "# We have 3 positions: Executive, Manager, Senior Manager\n",
    "# take input from the user \"Designation\" and print salary of the designation\n",
    "\n",
    "designation = input(\"Enter the designation (Executive/Manager/Senior Manager): \")\n",
    "designation = designation.lower()  # convert to the lower (small letter)\n",
    "if designation == \"executive\":\n",
    "    print(\"The salary of the executive is: 30000 - 40000\")\n",
    "elif designation == \"manager\":\n",
    "    print(\"The salary of the Manager is: 60000 - 90000\")\n",
    "elif designation == \"senior manager\":\n",
    "    print(\"The salary of the executive is: 120000 - 160000\")\n",
    "else:\n",
    "    print(\"Invalid Input!!!!!!!!\")"
   ]
  },
  {
   "cell_type": "code",
   "execution_count": null,
   "id": "37467602-66f9-487c-b7f7-781ac8f72d5a",
   "metadata": {},
   "outputs": [],
   "source": []
  }
 ],
 "metadata": {
  "kernelspec": {
   "display_name": "Python 3 (ipykernel)",
   "language": "python",
   "name": "python3"
  },
  "language_info": {
   "codemirror_mode": {
    "name": "ipython",
    "version": 3
   },
   "file_extension": ".py",
   "mimetype": "text/x-python",
   "name": "python",
   "nbconvert_exporter": "python",
   "pygments_lexer": "ipython3",
   "version": "3.12.0"
  }
 },
 "nbformat": 4,
 "nbformat_minor": 5
}
