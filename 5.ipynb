{
 "cells": [
  {
   "cell_type": "code",
   "execution_count": 7,
   "id": "c8ed97e8-fe93-4bac-99cf-8f06a615a789",
   "metadata": {},
   "outputs": [
    {
     "name": "stdout",
     "output_type": "stream",
     "text": [
      "John Doe\n",
      "J\n",
      " \n",
      "e\n"
     ]
    }
   ],
   "source": [
    "# String operations\n",
    "\n",
    "name = \"John Doe\"\n",
    "print(name)\n",
    "\n",
    "# index starts from 0 to n-1\n",
    "print(name[0])\n",
    "print(name[4])\n",
    "print(name[7])"
   ]
  },
  {
   "cell_type": "code",
   "execution_count": 14,
   "id": "8d117542-abd7-4462-b546-8eef18cb7a12",
   "metadata": {},
   "outputs": [
    {
     "name": "stdout",
     "output_type": "stream",
     "text": [
      "h\n",
      "e\n",
      "l\n",
      "l\n",
      "o\n",
      "10\n"
     ]
    }
   ],
   "source": [
    "# for loop\n",
    "for i in \"hello\":\n",
    "    print(i)\n",
    "\n",
    "# length function\n",
    "pan = \"ABCDE1234F\"\n",
    "print(len(pan))\n"
   ]
  },
  {
   "cell_type": "code",
   "execution_count": 28,
   "id": "d15d96e8-0978-440c-b821-ab800a656338",
   "metadata": {},
   "outputs": [
    {
     "name": "stdout",
     "output_type": "stream",
     "text": [
      "True\n",
      "True! The Data is there in chat you searched for.\n",
      "True! The Data is NOT there in chat.\n"
     ]
    }
   ],
   "source": [
    "# finding word in the string\n",
    "\n",
    "# method 1:\n",
    "chat = \"Indian economy growth is good compared to the big countries\"\n",
    "print(\"compared\" in chat)\n",
    "\n",
    "# method 2:\n",
    "if \"compared\" in chat:\n",
    "    print(\"True! The Data is there in chat you searched for.\")\n",
    "\n",
    "# method 3:\n",
    "if \"issss\" not in chat:\n",
    "    print(\"True! The Data is NOT there in chat.\")"
   ]
  },
  {
   "cell_type": "code",
   "execution_count": 7,
   "id": "bd27ad6e-abcc-4085-af2f-e6ca8b8a46c0",
   "metadata": {},
   "outputs": [
    {
     "name": "stdout",
     "output_type": "stream",
     "text": [
      "Joh\n",
      "John\n",
      "John D\n",
      "Doe\n",
      "Doe\n",
      "ohn\n"
     ]
    }
   ],
   "source": [
    "# Slicing \n",
    "# string name[start,end]   start==> inclusive, end ==> exclusive\n",
    "\n",
    "name = \"John Doe\"\n",
    "\n",
    "print(name[0:3])\n",
    "print(name[0:4])\n",
    "print(name[:6])  # if the start index is empty then it consider from the start\n",
    "print(name[5:])   # if the end index is empty then it means that the process till the end \n",
    "print(name[-3:])  # the negative way of slicing, the last element is -1.\n",
    "print(name[-7:-4]) "
   ]
  },
  {
   "cell_type": "code",
   "execution_count": 17,
   "id": "4e98ac0e-95c8-4b0e-b0bf-0448c5790bef",
   "metadata": {},
   "outputs": [
    {
     "name": "stdout",
     "output_type": "stream",
     "text": [
      "JOHN DOE\n",
      "john doe\n"
     ]
    }
   ],
   "source": [
    "# capital and small string\n",
    "\n",
    "name = \"joHn dOe\"\n",
    "print(name.upper())  # this function is used to store the string in capital letters\n",
    "print(name.lower())  # this function is used to store the string in capital letters"
   ]
  },
  {
   "cell_type": "code",
   "execution_count": 4,
   "id": "1bf215c3-650c-438b-8b6e-200141d0479b",
   "metadata": {},
   "outputs": [
    {
     "name": "stdout",
     "output_type": "stream",
     "text": [
      "john Hoe\n",
      "John doe\n"
     ]
    }
   ],
   "source": [
    "# replace\n",
    "\n",
    "name = \"john doe\"\n",
    "print(name.replace(\"d\",\"H\")) # replace(what, by)\n",
    "print(name.replace(\"j\",\"J\"))"
   ]
  },
  {
   "cell_type": "code",
   "execution_count": 8,
   "id": "192935ff-fc2c-48e7-9761-d2d9d1a9d3e5",
   "metadata": {},
   "outputs": [
    {
     "name": "stdout",
     "output_type": "stream",
     "text": [
      "['j', 'hn d', 'e']\n",
      "['john', 'doe']\n"
     ]
    }
   ],
   "source": [
    "name = \"john doe\"\n",
    "print(name.split(\"o\")) # split the string where the \"o\" comes\n",
    "print(name.split(\" \")) # split the string where the space is given"
   ]
  },
  {
   "cell_type": "code",
   "execution_count": 27,
   "id": "765af5ef-4962-43ad-b415-6d07e03a8a15",
   "metadata": {},
   "outputs": [
    {
     "name": "stdout",
     "output_type": "stream",
     "text": [
      "John Doe\n"
     ]
    }
   ],
   "source": [
    "# concatenate\n",
    "\n",
    "n1 = \"John\"\n",
    "n2 = \"Doe\"\n",
    "name = n1 + \" \" + n2\n",
    "print(name)"
   ]
  },
  {
   "cell_type": "code",
   "execution_count": 41,
   "id": "bf77ca22-de2e-4277-ad37-b1b41b667f21",
   "metadata": {},
   "outputs": [
    {
     "name": "stdout",
     "output_type": "stream",
     "text": [
      "['Apple', 'Banana', 'Cherries']\n",
      "----------------------------------------\n",
      "['Apple', 'Mangoes', 'Cherries']\n"
     ]
    }
   ],
   "source": [
    "list1 = [\"Apple\",\"Banana\",\"Cherries\"]\n",
    "print(list1)\n",
    "print(\"----------------------------------------\")\n",
    "list1[1] = \"Mangoes\"\n",
    "print(list1)"
   ]
  },
  {
   "cell_type": "code",
   "execution_count": 11,
   "id": "2fe0829b-7acb-4144-8f72-a225770a2a21",
   "metadata": {},
   "outputs": [
    {
     "name": "stdout",
     "output_type": "stream",
     "text": [
      "['Apple', 'Banana', 'Cherries', 'Grapes', 'Almonds']\n",
      "----------------------------------------\n",
      "['Apple', 'Mangoes', 'Blue Berries', 'Grapes', 'Almonds']\n"
     ]
    }
   ],
   "source": [
    "# Changing multiple elements in the list\n",
    "\n",
    "list1 = [\"Apple\",\"Banana\",\"Cherries\",\"Grapes\",\"Almonds\"]\n",
    "print(list1)\n",
    "print(\"----------------------------------------\")\n",
    "list1[1:3] = [\"Mangoes\",\"Blue Berries\"]\n",
    "print(list1)"
   ]
  },
  {
   "cell_type": "code",
   "execution_count": 56,
   "id": "99b3c4fd-60f5-4fd7-bde3-38c9b3eec679",
   "metadata": {},
   "outputs": [
    {
     "name": "stdout",
     "output_type": "stream",
     "text": [
      "['Apple', 'Banana']\n",
      "----------------------------------------\n",
      "['Apple', 'Mangoes', 'Banana']\n"
     ]
    }
   ],
   "source": [
    "# Inserting the new element in the pre-existing string    ===> insert()\n",
    "\n",
    "list1 = [\"Apple\",\"Banana\"]\n",
    "print(list1)\n",
    "print(\"----------------------------------------\")\n",
    "list1.insert(1, \"Mangoes\")\n",
    "print(list1)\n"
   ]
  },
  {
   "cell_type": "code",
   "execution_count": 54,
   "id": "540862e6-2232-4f04-a215-00f2f8bd8137",
   "metadata": {},
   "outputs": [
    {
     "name": "stdout",
     "output_type": "stream",
     "text": [
      "['Apple', 'Banana']\n",
      "----------------------------------------\n",
      "['Apple', 'Banana', 'Orange']\n"
     ]
    }
   ],
   "source": [
    "#  Append a new element in list    ===> append()\n",
    "\n",
    "# Inserting the new element in the pre-existing string\n",
    "\n",
    "list1 = [\"Apple\",\"Banana\"]\n",
    "print(list1)\n",
    "print(\"----------------------------------------\")\n",
    "list1.append(\"Orange\")\n",
    "print(list1)\n"
   ]
  },
  {
   "cell_type": "code",
   "execution_count": 55,
   "id": "48e89d18-6b63-4fb9-8dc5-577ab514499d",
   "metadata": {},
   "outputs": [
    {
     "name": "stdout",
     "output_type": "stream",
     "text": [
      "['Apple', 'Banana', 'Mangoes', 'Cherries']\n"
     ]
    }
   ],
   "source": [
    "# copy one list to another list  ===>  extend()\n",
    "\n",
    "list1 = [\"Apple\",\"Banana\"]\n",
    "list2 = [\"Mangoes\",\"Cherries\"]\n",
    "list1.extend(list2)\n",
    "print(list1)"
   ]
  },
  {
   "cell_type": "code",
   "execution_count": 53,
   "id": "0feed604-824b-4697-8313-81c5f95809ec",
   "metadata": {},
   "outputs": [
    {
     "name": "stdout",
     "output_type": "stream",
     "text": [
      "['Apple', 'Banana', 'Mangoes', 'Grapes', 'Almonds']\n",
      "----------------------------------------\n",
      "['Apple', 'Banana', 'Mangoes', 'Grapes']\n"
     ]
    }
   ],
   "source": [
    "# Removing the particular element by the name   ===> remove()\n",
    "\n",
    "list1 = [\"Apple\",\"Banana\",\"Mangoes\",\"Grapes\",\"Almonds\"]\n",
    "print(list1)\n",
    "print(\"----------------------------------------\")\n",
    "list1.remove(\"Almonds\")\n",
    "print(list1)"
   ]
  },
  {
   "cell_type": "code",
   "execution_count": 52,
   "id": "186c3984-3242-4354-9d92-fb7bff039c00",
   "metadata": {},
   "outputs": [
    {
     "name": "stdout",
     "output_type": "stream",
     "text": [
      "['Apple', 'Banana', 'Mangoes', 'Grapes', 'Almonds']\n",
      "----------------------------------------\n",
      "['Apple', 'Banana', 'Mangoes', 'Grapes']\n"
     ]
    }
   ],
   "source": [
    "# Removing the particular element by the index   ===>  pop()\n",
    "\n",
    "list1 = [\"Apple\",\"Banana\",\"Mangoes\",\"Grapes\",\"Almonds\"]\n",
    "print(list1)\n",
    "print(\"----------------------------------------\")\n",
    "list1.pop(4)\n",
    "print(list1)"
   ]
  },
  {
   "cell_type": "code",
   "execution_count": 51,
   "id": "09a702de-7e1d-4aca-8722-cc9077d3fbb7",
   "metadata": {},
   "outputs": [
    {
     "name": "stdout",
     "output_type": "stream",
     "text": [
      "['Apple', 'Banana', 'Mangoes', 'Grapes', 'Almonds']\n",
      "----------------------------------------\n",
      "['Apple', 'Banana', 'Mangoes', 'Grapes']\n",
      "['Apple', 'Banana', 'Mangoes']\n"
     ]
    }
   ],
   "source": [
    "# Removing the particular element by the index  ===>  pop()\n",
    "\n",
    "list1 = [\"Apple\",\"Banana\",\"Mangoes\",\"Grapes\",\"Almonds\"]\n",
    "print(list1)\n",
    "print(\"----------------------------------------\")\n",
    "list1.pop()\n",
    "print(list1)\n",
    "list1.pop()\n",
    "print(list1)"
   ]
  },
  {
   "cell_type": "code",
   "execution_count": 60,
   "id": "e04a0e8f-1d2c-4dcc-bd4b-d0a8b5f10ef2",
   "metadata": {},
   "outputs": [
    {
     "name": "stdout",
     "output_type": "stream",
     "text": [
      "['Apple', 'Banana', 'Mangoes', 'Grapes', 'Almonds']\n",
      "----------------------------------------\n",
      "['Apple', 'Mangoes', 'Grapes', 'Almonds']\n"
     ]
    }
   ],
   "source": [
    "# Deleting the element   ====> del\n",
    "\n",
    "list1 = [\"Apple\",\"Banana\",\"Mangoes\",\"Grapes\",\"Almonds\"]\n",
    "print(list1)\n",
    "print(\"----------------------------------------\")\n",
    "del list1[1]\n",
    "print(list1)"
   ]
  },
  {
   "cell_type": "code",
   "execution_count": 68,
   "id": "e0652511-31e1-43a0-97a2-eb210de9bdcb",
   "metadata": {},
   "outputs": [
    {
     "name": "stdout",
     "output_type": "stream",
     "text": [
      "Apple\n",
      "Banana\n",
      "Mangoes\n",
      "Grapes\n"
     ]
    }
   ],
   "source": [
    "\n",
    "\n",
    "list1 = [\"Apple\",\"Banana\",\"Mangoes\",\"Grapes\"]\n",
    "for i in list1:\n",
    "    print(i)"
   ]
  },
  {
   "cell_type": "code",
   "execution_count": 12,
   "id": "054171c6-6a54-4dc0-ba54-7a0cf3c2b24e",
   "metadata": {},
   "outputs": [
    {
     "name": "stdout",
     "output_type": "stream",
     "text": [
      "4\n",
      "Apple\n",
      "Banana\n",
      "Mangoes\n",
      "Grapes\n"
     ]
    }
   ],
   "source": [
    "\n",
    "\n",
    "list1 = [\"Apple\",\"Banana\",\"Mangoes\",\"Grapes\"]\n",
    "print(len(list1))\n",
    "for i in range (len(list1)):\n",
    "    print(list1[i])"
   ]
  },
  {
   "cell_type": "code",
   "execution_count": 4,
   "id": "4c5d0164-561b-4d1b-a222-9aa45b0336e3",
   "metadata": {},
   "outputs": [
    {
     "name": "stdout",
     "output_type": "stream",
     "text": [
      "['Banana']\n"
     ]
    }
   ],
   "source": [
    "list1 = [\"Apple\",\"Banana\",\"Mangoes\",\"Grapes\"]\n",
    "newlist = []\n",
    "\n",
    "for i in list1:\n",
    "    if \"B\" in i:\n",
    "        newlist.append(i)\n",
    "        \n",
    "print(newlist)"
   ]
  },
  {
   "cell_type": "code",
   "execution_count": 10,
   "id": "edd637e1-9878-4419-802e-e0bc0a5be2fa",
   "metadata": {},
   "outputs": [
    {
     "name": "stdout",
     "output_type": "stream",
     "text": [
      "['Apple']\n"
     ]
    }
   ],
   "source": [
    "# List Comprehension\n",
    "\n",
    "newlist = [i for i in list1 if \"A\" in i]\n",
    "print(newlist)"
   ]
  },
  {
   "cell_type": "code",
   "execution_count": 13,
   "id": "de5f3b61-4509-42ee-846c-7ea0869ebe9c",
   "metadata": {},
   "outputs": [
    {
     "name": "stdout",
     "output_type": "stream",
     "text": [
      "['Apple', 'Banana', 'Grapes', 'Mangoes']\n"
     ]
    }
   ],
   "source": [
    "#  Sorting a list ====> .sort()\n",
    "\n",
    "list1 = [\"Mangoes\",\"Banana\",\"Grapes\",\"Apple\"]\n",
    "\n",
    "list1.sort()\n",
    "print(list1)"
   ]
  },
  {
   "cell_type": "code",
   "execution_count": 19,
   "id": "70ddeca1-ba5f-4b45-9a82-9225c176baef",
   "metadata": {},
   "outputs": [
    {
     "name": "stdout",
     "output_type": "stream",
     "text": [
      "['Mangoes', 'Grapes', 'Banana', 'Apple']\n"
     ]
    }
   ],
   "source": [
    "# reversing a list\n",
    "\n",
    "list1 = [\"Mangoes\",\"Banana\",\"Grapes\",\"Apple\"]\n",
    "list1.sort(reverse = True)\n",
    "print(list1)"
   ]
  },
  {
   "cell_type": "code",
   "execution_count": 25,
   "id": "1b86a746-5be3-4eaf-a863-25015942adb9",
   "metadata": {},
   "outputs": [
    {
     "name": "stdout",
     "output_type": "stream",
     "text": [
      "[1, 2, 20, 21, 25, 50, 98]\n"
     ]
    }
   ],
   "source": [
    "\n",
    "a = [1, 20, 50, 25, 21, 2, 98]\n",
    "a.sort()\n",
    "print(a)"
   ]
  },
  {
   "cell_type": "code",
   "execution_count": 27,
   "id": "3d4aad9f-85b0-4e15-acd6-c4336a14904d",
   "metadata": {},
   "outputs": [
    {
     "name": "stdout",
     "output_type": "stream",
     "text": [
      "['Mangoes', 'Banana', 'Grapes', 'Apple']\n"
     ]
    }
   ],
   "source": [
    "# Copy a list in another list ====> .copy()\n",
    "\n",
    "list1 = [\"Mangoes\",\"Banana\",\"Grapes\",\"Apple\"]\n",
    "list2 = list1.copy()\n",
    "print(list2)"
   ]
  },
  {
   "cell_type": "code",
   "execution_count": 31,
   "id": "658b585e-6467-4bfe-833c-3fc03236814d",
   "metadata": {},
   "outputs": [
    {
     "name": "stdout",
     "output_type": "stream",
     "text": [
      "Banana\n"
     ]
    }
   ],
   "source": [
    "# Tupple\n",
    "\n",
    "tup1 = (\"Apple\",\"Banana\")\n",
    "print(tup1[1])"
   ]
  },
  {
   "cell_type": "code",
   "execution_count": 32,
   "id": "044a4fae-b816-48f0-a31b-c212cca50248",
   "metadata": {},
   "outputs": [
    {
     "name": "stdout",
     "output_type": "stream",
     "text": [
      "Apple\n",
      "Banana\n",
      "Mangoes\n"
     ]
    }
   ],
   "source": [
    "tup1 = (\"Apple\",\"Banana\",\"Mangoes\")\n",
    "for i in tup1:\n",
    "    print(i)\n"
   ]
  },
  {
   "cell_type": "code",
   "execution_count": 33,
   "id": "3dd7c2b2-1e8c-4101-84db-d3ce11b53417",
   "metadata": {},
   "outputs": [
    {
     "name": "stdout",
     "output_type": "stream",
     "text": [
      "Apple\n",
      "Banana\n",
      "Mangoes\n"
     ]
    }
   ],
   "source": [
    "tup1 = (\"Apple\",\"Banana\",\"Mangoes\")\n",
    "for i in range(len(tup1)):\n",
    "    print(tup1[i])"
   ]
  },
  {
   "cell_type": "code",
   "execution_count": 1,
   "id": "5bfa1894-b6ea-4d77-998c-73c38222e396",
   "metadata": {},
   "outputs": [
    {
     "name": "stdout",
     "output_type": "stream",
     "text": [
      "('Apple', 'Banana', 'Mangoes', 1, 2, 3, 4)\n"
     ]
    }
   ],
   "source": [
    "tup1 = (\"Apple\",\"Banana\",\"Mangoes\")\n",
    "tup2 = (1, 2, 3,  4)\n",
    "tup3 = tup1 + tup2\n",
    "print(tup3)"
   ]
  },
  {
   "cell_type": "code",
   "execution_count": null,
   "id": "b097bece-9be9-4541-bbbb-5c87503610b1",
   "metadata": {},
   "outputs": [],
   "source": []
  }
 ],
 "metadata": {
  "kernelspec": {
   "display_name": "Python 3 (ipykernel)",
   "language": "python",
   "name": "python3"
  },
  "language_info": {
   "codemirror_mode": {
    "name": "ipython",
    "version": 3
   },
   "file_extension": ".py",
   "mimetype": "text/x-python",
   "name": "python",
   "nbconvert_exporter": "python",
   "pygments_lexer": "ipython3",
   "version": "3.12.4"
  }
 },
 "nbformat": 4,
 "nbformat_minor": 5
}
