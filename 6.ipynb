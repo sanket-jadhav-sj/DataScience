{
 "cells": [
  {
   "cell_type": "code",
   "execution_count": 49,
   "id": "fcb15581-8d10-4e82-bcb4-bd9cf59bb002",
   "metadata": {},
   "outputs": [
    {
     "name": "stdout",
     "output_type": "stream",
     "text": [
      "{'Germany', 'UK', 'US'}\n"
     ]
    }
   ],
   "source": [
    "# Sets\n",
    "\n",
    "set1 = {\"UK\", \"US\", \"Germany\"}\n",
    "print(set1) "
   ]
  },
  {
   "cell_type": "code",
   "execution_count": 50,
   "id": "547f60ec-3be4-4b00-8d7c-08f9d2da9be4",
   "metadata": {},
   "outputs": [
    {
     "name": "stdout",
     "output_type": "stream",
     "text": [
      "{'Germany', 'UK', 'US'}\n",
      "3\n"
     ]
    }
   ],
   "source": [
    "# we cannnot have the duplicate sets\n",
    "\n",
    "set1 = {\"UK\", \"US\", \"Germany\",\"Germany\"}\n",
    "print(set1)\n",
    "print(len(set1))"
   ]
  },
  {
   "cell_type": "code",
   "execution_count": 2,
   "id": "378a0fda-cec4-4ca6-bdbd-49d234b5eecf",
   "metadata": {},
   "outputs": [
    {
     "name": "stdout",
     "output_type": "stream",
     "text": [
      "{'Germany', 'US', 'UK'}\n"
     ]
    }
   ],
   "source": [
    "# set constructor for making a set\n",
    "\n",
    "set1 = set((\"UK\", \"US\", \"Germany\"))\n",
    "print(set1)"
   ]
  },
  {
   "cell_type": "code",
   "execution_count": 5,
   "id": "d20a9c12-0975-479c-8cf4-64813b175571",
   "metadata": {},
   "outputs": [
    {
     "name": "stdout",
     "output_type": "stream",
     "text": [
      "{'UK', 20, 'Germany', 40, 10, 'US', 30}\n"
     ]
    }
   ],
   "source": [
    "# union of sets ===> new set of the two set are added in it\n",
    "\n",
    "set1 = {\"UK\", \"US\", \"Germany\",\"Germany\"}\n",
    "set2 = {10, 20, 30, 40}\n",
    "set3 = set1.union(set2)\n",
    "print(set3)"
   ]
  },
  {
   "cell_type": "code",
   "execution_count": 7,
   "id": "bde41f51-3663-499a-ac11-8a45040fa51c",
   "metadata": {},
   "outputs": [
    {
     "name": "stdout",
     "output_type": "stream",
     "text": [
      "{'UK', 20, 'Germany', 40, 10, 'US', 30}\n"
     ]
    }
   ],
   "source": [
    "#update() ===> adding the another set to the already existing set\n",
    "\n",
    "set1 = {\"UK\", \"US\", \"Germany\",\"Germany\"}\n",
    "set2 = {10, 20, 30, 40}\n",
    "\n",
    "set1.update(set2)\n",
    "print(set1)"
   ]
  },
  {
   "cell_type": "code",
   "execution_count": 15,
   "id": "4b27c0a2-e1a4-445b-91e2-92097a4d5390",
   "metadata": {},
   "outputs": [
    {
     "name": "stdout",
     "output_type": "stream",
     "text": [
      "{'Germany'}\n",
      "{'Germany'}\n"
     ]
    }
   ],
   "source": [
    "# used to print the common/duplicate elements\n",
    "# intersection()\n",
    "# intersection_update()  ===> update the existing set\n",
    "\n",
    "set1 = {\"UK\", \"US\", \"Germany\"}\n",
    "set2 = {\"KSA\", \"Italy\", \"Germany\",\"India\"}\n",
    "\n",
    "set3 = set1.intersection(set2)\n",
    "print(set3)\n",
    "\n",
    "set1.intersection_update(set2)\n",
    "print(set1)"
   ]
  },
  {
   "cell_type": "code",
   "execution_count": 60,
   "id": "492301f1-0b8b-4ffb-ba9f-e449a5b188c6",
   "metadata": {},
   "outputs": [
    {
     "name": "stdout",
     "output_type": "stream",
     "text": [
      "{'Endeavour', 'Defender', 'Hummer', 'Thar Roxx', 'Fortuner', 'Scorpio'}\n"
     ]
    }
   ],
   "source": [
    "s = {\"Fortuner\", \"Scorpio\", \"Thar Roxx\", \"Endeavour\"}\n",
    "c = {\"Thar Roxx\", \"Defender\", \"Hummer\"}\n",
    "\n",
    "u = s.union(c)\n",
    "print(u)"
   ]
  },
  {
   "cell_type": "code",
   "execution_count": 55,
   "id": "2ab2195d-9239-413d-9c2b-30222c12aee0",
   "metadata": {},
   "outputs": [
    {
     "name": "stdout",
     "output_type": "stream",
     "text": [
      "{'Endeavour', 'Defender', 'Hummer', 'Thar Roxx', 'Fortuner', 'Scorpio'}\n"
     ]
    }
   ],
   "source": [
    "# practice\n",
    "s = {\"Fortuner\", \"Scorpio\", \"Thar Roxx\", \"Endeavour\"}\n",
    "c = {\"Thar Roxx\", \"Defender\", \"Hummer\"}\n",
    "\n",
    "s.update(c)\n",
    "print(s)"
   ]
  },
  {
   "cell_type": "code",
   "execution_count": 56,
   "id": "7a9336c2-14dd-4f90-8d95-f6dc4e02346e",
   "metadata": {},
   "outputs": [
    {
     "name": "stdout",
     "output_type": "stream",
     "text": [
      "{'Thar Roxx'}\n"
     ]
    }
   ],
   "source": [
    "# practice\n",
    "s = {\"Fortuner\", \"Scorpio\", \"Thar Roxx\", \"Endeavour\"}\n",
    "c = {\"Thar Roxx\", \"Defender\", \"Hummer\"}\n",
    "\n",
    "u = s.intersection(c)\n",
    "print(u)"
   ]
  },
  {
   "cell_type": "code",
   "execution_count": 58,
   "id": "728b5f00-a3ce-4148-b0cc-7a14bbd00039",
   "metadata": {},
   "outputs": [
    {
     "name": "stdout",
     "output_type": "stream",
     "text": [
      "{'Thar Roxx'}\n"
     ]
    }
   ],
   "source": [
    "# practice\n",
    "s = {\"Fortuner\", \"Scorpio\", \"Thar Roxx\", \"Endeavour\"}\n",
    "c = {\"Thar Roxx\", \"Defender\", \"Hummer\"}\n",
    "\n",
    "s.intersection_update(c)\n",
    "print(s)"
   ]
  },
  {
   "cell_type": "code",
   "execution_count": 53,
   "id": "e2db9959-432e-4772-b29f-12a7824fdf02",
   "metadata": {},
   "outputs": [
    {
     "name": "stdout",
     "output_type": "stream",
     "text": [
      "{'India', 'US', 'UK', 'Italy', 'KSA'}\n",
      "{'India', 'US', 'UK', 'Italy', 'KSA'}\n"
     ]
    }
   ],
   "source": [
    "# just want to store the unique values not the duplicate values\n",
    "\n",
    "set1 = {\"UK\", \"US\", \"Germany\"}\n",
    "set2 = {\"KSA\", \"Italy\", \"Germany\",\"India\"}\n",
    "\n",
    "set3 = set1.symmetric_difference(set2)\n",
    "print(set3)\n",
    "\n",
    "set1.symmetric_difference_update(set2)\n",
    "print(set1)"
   ]
  },
  {
   "cell_type": "code",
   "execution_count": 59,
   "id": "aa078285-b15c-49c6-ae3c-285de193b474",
   "metadata": {},
   "outputs": [
    {
     "name": "stdout",
     "output_type": "stream",
     "text": [
      "{'Defender', 'Hummer', 'Endeavour', 'Fortuner', 'Scorpio'}\n",
      "{'Defender', 'Hummer', 'Endeavour', 'Fortuner', 'Scorpio'}\n"
     ]
    }
   ],
   "source": [
    "# practice\n",
    "s = {\"Fortuner\", \"Scorpio\", \"Thar Roxx\", \"Endeavour\"}\n",
    "c = {\"Thar Roxx\", \"Defender\", \"Hummer\"}\n",
    "\n",
    "u = s.symmetric_difference(c)\n",
    "print(u)\n",
    "\n",
    "s.symmetric_difference_update(c)\n",
    "print(s)"
   ]
  },
  {
   "cell_type": "code",
   "execution_count": 10,
   "id": "5985a82b-1042-4b85-8698-4d720a1cd781",
   "metadata": {},
   "outputs": [
    {
     "name": "stdout",
     "output_type": "stream",
     "text": [
      "Fortuner\n",
      "Scorpio\n",
      "Endeavour\n",
      "Thar Roxx\n"
     ]
    }
   ],
   "source": [
    "set1 = {\"Fortuner\", \"Scorpio\", \"Thar Roxx\", \"Endeavour\"}\n",
    "\n",
    "for i in set1:\n",
    "    print(i)"
   ]
  },
  {
   "cell_type": "code",
   "execution_count": 34,
   "id": "35a62f2b-f7fe-481b-b3a4-2e98bc580503",
   "metadata": {},
   "outputs": [
    {
     "name": "stdout",
     "output_type": "stream",
     "text": [
      "{'name': 'Alice', 'Age': 21, 'city': 'Birmingham'}\n",
      "Alice\n"
     ]
    }
   ],
   "source": [
    "# Dictionaries\n",
    "#python version 3.7 and above they are ordered, but 3.6 and below they are unordered\n",
    "\n",
    "d1 = {\"name\":\"Alice\", \"Age\":21, \"city\":\"Birmingham\"}\n",
    "\n",
    "print(d1)\n",
    "print(d1[\"name\"])"
   ]
  },
  {
   "cell_type": "code",
   "execution_count": 30,
   "id": "37ea0001-5c88-4461-a031-90152fb8e147",
   "metadata": {},
   "outputs": [
    {
     "name": "stdout",
     "output_type": "stream",
     "text": [
      "3\n",
      "{'name': 'Alice', 'Age': 21, 'city': 'Mumbai'}\n",
      "Mumbai\n",
      "<class 'dict'>\n"
     ]
    }
   ],
   "source": [
    "#  city get overwritten\n",
    "\n",
    "d1 = {\"name\":\"Alice\", \"Age\":21, \"city\":\"Birmingham\", \"city\":\"Mumbai\"}\n",
    "print(len(d1))\n",
    "print(d1)\n",
    "print(d1[\"city\"])\n",
    "print(type(d1))"
   ]
  },
  {
   "cell_type": "code",
   "execution_count": 33,
   "id": "c406ff17-dd1e-4489-acd2-fd1d8995482d",
   "metadata": {},
   "outputs": [
    {
     "name": "stdout",
     "output_type": "stream",
     "text": [
      "dict_keys(['name', 'Age', 'city'])\n",
      "name\n",
      "Age\n",
      "city\n"
     ]
    }
   ],
   "source": [
    "ky = d1.keys()\n",
    "print(ky)\n",
    "\n",
    "for k in ky:\n",
    "    print(k)"
   ]
  },
  {
   "cell_type": "code",
   "execution_count": 64,
   "id": "e3b5df50-5741-42bb-a21d-66f42fa3eef3",
   "metadata": {},
   "outputs": [
    {
     "name": "stdout",
     "output_type": "stream",
     "text": [
      "{'name': 'Thomas Shelby', 'Age': 21, 'city': 'Birmingham'}\n"
     ]
    }
   ],
   "source": [
    "# dict() constructor\n",
    "\n",
    "d1 = dict(name=\"Thomas Shelby\", Age=21, city=\"Birmingham\")\n",
    "print(d1)"
   ]
  },
  {
   "cell_type": "code",
   "execution_count": 70,
   "id": "856dc468-d897-4c8b-a97f-944ea8509b94",
   "metadata": {},
   "outputs": [
    {
     "name": "stdout",
     "output_type": "stream",
     "text": [
      "{'name': 'Thomas Shelby', 'Age': 21, 'city': 'Mumbai'}\n",
      "{'name': 'Thomas Shelby', 'Age': 21, 'city': 'Birmingham'}\n"
     ]
    }
   ],
   "source": [
    "d1 = {\"name\":\"Thomas Shelby\", \"Age\":21, \"city\":\"Mumbai\"}\n",
    "print(d1)\n",
    "d1[\"city\"] = \"Birmingham\"\n",
    "print(d1)"
   ]
  },
  {
   "cell_type": "code",
   "execution_count": 80,
   "id": "c0680a03-e06c-4d92-8ff6-f0bbabe81261",
   "metadata": {},
   "outputs": [
    {
     "name": "stdout",
     "output_type": "stream",
     "text": [
      "{'name': 'Thomas Shelby', 'Age': 21, 'city': 'Mumbai'}\n",
      "{'name': 'Thomas Shelby', 'Age': 21, 'city': 'Birmingham'}\n"
     ]
    }
   ],
   "source": [
    "# Using update\n",
    "\n",
    "d1 = {\"name\":\"Thomas Shelby\", \"Age\":21, \"city\":\"Mumbai\"}\n",
    "print(d1)\n",
    "d1.update({\"city\":\"Birmingham\"})  # if the key is already in dictionary then it will update the value\n",
    "print(d1)"
   ]
  },
  {
   "cell_type": "code",
   "execution_count": 78,
   "id": "66d2f76b-3f8c-4bc1-83f9-ded2c3719006",
   "metadata": {},
   "outputs": [
    {
     "name": "stdout",
     "output_type": "stream",
     "text": [
      "{'name': 'Thomas Shelby', 'Age': 21, 'city': 'Birmingham'}\n",
      "{'name': 'Thomas Shelby', 'Age': 21, 'city': 'Birmingham', 'gun': 'M416'}\n"
     ]
    }
   ],
   "source": [
    "# adding element in the dictionary\n",
    "# 1\n",
    "d1 = {\"name\":\"Thomas Shelby\", \"Age\":21, \"city\":\"Birmingham\"}\n",
    "print(d1)\n",
    "d1[\"gun\"] = \"M416\"\n",
    "print(d1)"
   ]
  },
  {
   "cell_type": "code",
   "execution_count": 81,
   "id": "89b877c3-5674-47c6-bd9d-728497930443",
   "metadata": {},
   "outputs": [
    {
     "name": "stdout",
     "output_type": "stream",
     "text": [
      "{'name': 'Thomas Shelby', 'Age': 21, 'city': 'Birmingham'}\n",
      "{'name': 'Thomas Shelby', 'Age': 21, 'city': 'Birmingham', 'Map': 'Erangle'}\n"
     ]
    }
   ],
   "source": [
    "# 2\n",
    "\n",
    "d1 = {\"name\":\"Thomas Shelby\", \"Age\":21, \"city\":\"Birmingham\"}\n",
    "print(d1)\n",
    "d1.update({\"Map\":\"Erangle\"})    # if the key is not there in dictionary then it will update the value\n",
    "print(d1)"
   ]
  },
  {
   "cell_type": "code",
   "execution_count": 11,
   "id": "84663da4-4cd9-4100-bdab-57b18e966a9d",
   "metadata": {},
   "outputs": [
    {
     "name": "stdout",
     "output_type": "stream",
     "text": [
      "{'name': 'Thomas Shelby', 'Age': 21, 'city': 'Birmingham'}\n",
      "{'name': 'Thomas Shelby', 'city': 'Birmingham'}\n"
     ]
    }
   ],
   "source": [
    "# deleting the element\n",
    "#1\n",
    "\n",
    "d1 = {\"name\":\"Thomas Shelby\", \"Age\":21, \"city\":\"Birmingham\"}\n",
    "print(d1)\n",
    "\n",
    "d1.pop(\"Age\")\n",
    "print(d1)"
   ]
  },
  {
   "cell_type": "code",
   "execution_count": 15,
   "id": "359d2771-72c9-4cb3-ae26-8aa1364660b9",
   "metadata": {},
   "outputs": [
    {
     "name": "stdout",
     "output_type": "stream",
     "text": [
      "{'name': 'Thomas Shelby', 'Age': 21, 'city': 'Birmingham'}\n",
      "{'name': 'Thomas Shelby', 'city': 'Birmingham'}\n"
     ]
    }
   ],
   "source": [
    "# 2\n",
    "\n",
    "d1 = {\"name\":\"Thomas Shelby\", \"Age\":21, \"city\":\"Birmingham\"}\n",
    "print(d1)\n",
    "\n",
    "del d1[\"Age\"]\n",
    "print(d1)\n",
    "\n",
    "del d1   # deleting the whole dictionary from root \n",
    "d1 = {\"name\":\"Thomas Shelby\", \"Age\":21, \"city\":\"Birmingham\"}\n",
    "# print(d1)"
   ]
  },
  {
   "cell_type": "code",
   "execution_count": 13,
   "id": "90d3b223-5f44-4fc6-935a-73c9683bd19d",
   "metadata": {},
   "outputs": [
    {
     "name": "stdout",
     "output_type": "stream",
     "text": [
      "{'name': 'Thomas Shelby', 'Age': 21, 'city': 'Birmingham'}\n",
      "{}\n"
     ]
    }
   ],
   "source": [
    "# clear() ===> used to delete the all elements of the dictionary\n",
    "\n",
    "d1 = {\"name\":\"Thomas Shelby\", \"Age\":21, \"city\":\"Birmingham\"}\n",
    "print(d1)\n",
    "\n",
    "d1.clear()\n",
    "print(d1)"
   ]
  },
  {
   "cell_type": "code",
   "execution_count": 24,
   "id": "0fec2a11-0cf5-4529-97b5-ad79ba9cca95",
   "metadata": {},
   "outputs": [
    {
     "name": "stdout",
     "output_type": "stream",
     "text": [
      "name\n",
      "Age\n",
      "city\n",
      "Thomas Shelby\n",
      "21\n",
      "Birmingham\n",
      "Thomas Shelby\n",
      "21\n",
      "Birmingham\n"
     ]
    }
   ],
   "source": [
    "\n",
    "d1 = {\"name\":\"Thomas Shelby\", \"Age\":21, \"city\":\"Birmingham\"}\n",
    "# printing the keys\n",
    "for i in d1:\n",
    "    print(i)\n",
    "\n",
    "# printing the values\n",
    "for i in d1:\n",
    "    print(d1[i])\n",
    "\n",
    "# printing the values\n",
    "for  i in d1.values():\n",
    "    print(i)"
   ]
  },
  {
   "cell_type": "code",
   "execution_count": 26,
   "id": "3684cd75-7778-4e0c-bb4e-8a3325cf441f",
   "metadata": {},
   "outputs": [
    {
     "name": "stdout",
     "output_type": "stream",
     "text": [
      "{'name': 'Thomas Shelby', 'Age': 21, 'city': 'Birmingham'}\n"
     ]
    }
   ],
   "source": [
    "# copy ===> to  copy the dictionary to another dictionary\n",
    "\n",
    "d1 = {\"name\":\"Thomas Shelby\", \"Age\":21, \"city\":\"Birmingham\"}\n",
    "\n",
    "d2 = d1.copy()\n",
    "print(d2)"
   ]
  },
  {
   "cell_type": "code",
   "execution_count": 34,
   "id": "532dc84c-dd1f-41d6-bd00-5c4db05b2a96",
   "metadata": {},
   "outputs": [
    {
     "name": "stdout",
     "output_type": "stream",
     "text": [
      "{'d1': {'name': 'Thomas Shelby', 'city': 'Birmingham'}, 'd2': {'name': 'Thomas Shelby', 'city': 'Birmingham'}, 'd3': {'name': 'Thomas Shelby', 'city': 'Birmingham'}}\n",
      "{'name': 'Thomas Shelby', 'city': 'Birmingham'}\n"
     ]
    }
   ],
   "source": [
    "# nested dictionaries\n",
    "\n",
    "d = {\"d1\":{\"name\":\"Thomas Shelby\", \"city\":\"Birmingham\"}, \"d2\":{\"name\":\"Thomas Shelby\", \"city\":\"Birmingham\"}, \"d3\":{\"name\":\"Thomas Shelby\", \"city\":\"Birmingham\"}}\n",
    "print(d)\n",
    "print(d[\"d1\"])"
   ]
  },
  {
   "cell_type": "code",
   "execution_count": null,
   "id": "d429feee-1df0-4805-8c67-3e38e69914d8",
   "metadata": {},
   "outputs": [],
   "source": []
  },
  {
   "cell_type": "code",
   "execution_count": null,
   "id": "99c74d38-323d-4463-92b9-560bf5636657",
   "metadata": {},
   "outputs": [],
   "source": []
  },
  {
   "cell_type": "code",
   "execution_count": 42,
   "id": "9ad50c01-5263-4c58-af4d-30997c18b1c8",
   "metadata": {},
   "outputs": [
    {
     "name": "stdout",
     "output_type": "stream",
     "text": [
      "Data Science has vast scope in future\n"
     ]
    }
   ],
   "source": [
    "# FUNCTIONS\n",
    "\n",
    "def fun():   # def function_name() :\n",
    "    print(\"Data Science has vast scope in future\")\n",
    "\n",
    "fun() # calling the function"
   ]
  },
  {
   "cell_type": "code",
   "execution_count": 47,
   "id": "fcb5360b-790a-4f29-a0b3-265205b0addf",
   "metadata": {},
   "outputs": [
    {
     "name": "stdout",
     "output_type": "stream",
     "text": [
      "Stranger will own the G63 soon\n"
     ]
    }
   ],
   "source": [
    "# passing parameter/argument in the function\n",
    "\n",
    "def fun1(name):\n",
    "    print(name + \" will own the G63 soon\")\n",
    "\n",
    "fun1(\"Stranger\")"
   ]
  },
  {
   "cell_type": "code",
   "execution_count": null,
   "id": "e87f7d39-9fe9-4fbc-a42a-9c267cf5d99f",
   "metadata": {},
   "outputs": [],
   "source": []
  }
 ],
 "metadata": {
  "kernelspec": {
   "display_name": "Python 3 (ipykernel)",
   "language": "python",
   "name": "python3"
  },
  "language_info": {
   "codemirror_mode": {
    "name": "ipython",
    "version": 3
   },
   "file_extension": ".py",
   "mimetype": "text/x-python",
   "name": "python",
   "nbconvert_exporter": "python",
   "pygments_lexer": "ipython3",
   "version": "3.12.4"
  }
 },
 "nbformat": 4,
 "nbformat_minor": 5
}
