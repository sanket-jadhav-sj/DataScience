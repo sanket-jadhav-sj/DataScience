{
 "cells": [
  {
   "cell_type": "code",
   "execution_count": 8,
   "id": "9951282f-8126-4df0-8145-4f7de2f62acb",
   "metadata": {},
   "outputs": [
    {
     "name": "stdout",
     "output_type": "stream",
     "text": [
      "['False', 'None', 'True', 'and', 'as', 'assert', 'async', 'await', 'break', 'class', 'continue', 'def', 'del', 'elif', 'else', 'except', 'finally', 'for', 'from', 'global', 'if', 'import', 'in', 'is', 'lambda', 'nonlocal', 'not', 'or', 'pass', 'raise', 'return', 'try', 'while', 'with', 'yield']\n"
     ]
    }
   ],
   "source": [
    "# KEYWORDS\n",
    "\n",
    "import keyword\n",
    "print(keyword.kwlist)\n",
    "\n",
    "class_no = 10\n",
    "return_value = 5\n",
    "if_string = \"hello\"\n",
    "else_pi = 3.14"
   ]
  },
  {
   "cell_type": "code",
   "execution_count": 9,
   "id": "2e41c04d-c1ce-4b62-9ad8-3e3b26a7897e",
   "metadata": {},
   "outputs": [],
   "source": [
    "# COMMENTS\n",
    "\n",
    "def add_number(a,b):\n",
    "    \"\"\"\n",
    "     Here the addition of the two numbers are done \n",
    "     This function will return the addition of the two numbers\n",
    "    \"\"\"\n",
    "    \n",
    "    return a+b;\n"
   ]
  },
  {
   "cell_type": "code",
   "execution_count": 10,
   "id": "a2fadb7b-1222-4ca1-b5e9-721f0433849c",
   "metadata": {},
   "outputs": [
    {
     "name": "stdout",
     "output_type": "stream",
     "text": [
      "\n",
      "     Here the addition of the two numbers are done \n",
      "     This function will return the addition of the two numbers\n",
      "    \n"
     ]
    }
   ],
   "source": [
    "print(add_number.__doc__)"
   ]
  },
  {
   "cell_type": "code",
   "execution_count": 11,
   "id": "8cc2b611-f432-40e1-8e18-eba300c2f16e",
   "metadata": {},
   "outputs": [
    {
     "name": "stdout",
     "output_type": "stream",
     "text": [
      "This is True\n"
     ]
    }
   ],
   "source": [
    "# INDENTATION\n",
    "\n",
    "if True:\n",
    "    print(\"This is True\")"
   ]
  },
  {
   "cell_type": "code",
   "execution_count": 12,
   "id": "c0b45921-b4e8-486c-9a30-a8ded053c353",
   "metadata": {},
   "outputs": [
    {
     "name": "stdout",
     "output_type": "stream",
     "text": [
      "positive number\n"
     ]
    }
   ],
   "source": [
    "# STATEMENTS\n",
    "\n",
    "x=3\n",
    "if x>0:\n",
    "    print(\"positive number\")"
   ]
  },
  {
   "cell_type": "code",
   "execution_count": 17,
   "id": "0dfb8002-b643-402b-a8f4-b0de144cb8fd",
   "metadata": {},
   "outputs": [
    {
     "name": "stdout",
     "output_type": "stream",
     "text": [
      "58\n",
      "58\n"
     ]
    }
   ],
   "source": [
    "  # multiline statement\n",
    "\n",
    "s = 1 + 1 + 2 + 3 + 2 + 5 + 4 + 4 + 6 + 1 + 4 + 7 + 8 \\\n",
    "    + 1 + 1 + 1 + 1 + 1 + 1 + 1 + 1 + 1 + 1\n",
    "print(s)\n",
    "\n",
    "s = (1 + 1 + 2 + 3 + 2 + 5 + 4 + 4 + 6 + 1 + 4 + 7 + 8 \n",
    "    + 1 + 1 + 1 + 1 + 1 + 1 + 1 + 1 + 1 + 1)\n",
    "print(s)"
   ]
  },
  {
   "cell_type": "code",
   "execution_count": 2,
   "id": "8f3fdcc6-3dd0-4aa0-8c76-f5a040f36246",
   "metadata": {},
   "outputs": [
    {
     "name": "stdout",
     "output_type": "stream",
     "text": [
      "10\n",
      "Balbharathi\n"
     ]
    }
   ],
   "source": [
    "# VARIABLE\n",
    "\n",
    "a = 10\n",
    "book = \"Balbharathi\"\n",
    "print(a)\n",
    "print(book)"
   ]
  },
  {
   "cell_type": "code",
   "execution_count": 10,
   "id": "3125a20e-c438-4d07-b1b8-a1631bf26f05",
   "metadata": {},
   "outputs": [
    {
     "name": "stdout",
     "output_type": "stream",
     "text": [
      "<class 'int'>\n",
      "<class 'float'>\n",
      "<class 'str'>\n"
     ]
    }
   ],
   "source": [
    "#INTEGER\n",
    "x = 12\n",
    "print(type(x))\n",
    "\n",
    "# FLOAT\n",
    "b = 10.10\n",
    "print(type(b))\n",
    "\n",
    "# Strings\n",
    "c = \"Cat\"\n",
    "print(type(c))"
   ]
  },
  {
   "cell_type": "code",
   "execution_count": 14,
   "id": "e1b8f4e3-bbe5-42f8-969f-d7ee7f215e6d",
   "metadata": {},
   "outputs": [
    {
     "name": "stdout",
     "output_type": "stream",
     "text": [
      "['Stranger', 1, '10.5']\n"
     ]
    }
   ],
   "source": [
    "# List\n",
    "l = [\"Stranger\", 1 , \"10.5\"]\n",
    "print(l)"
   ]
  },
  {
   "cell_type": "code",
   "execution_count": 15,
   "id": "7598c432-9790-40b8-bcaf-61d65931dd49",
   "metadata": {},
   "outputs": [
    {
     "name": "stdout",
     "output_type": "stream",
     "text": [
      "['Stranger', 'OP', '10.5']\n"
     ]
    }
   ],
   "source": [
    "l[1] = \"OP\"\n",
    "print(l)"
   ]
  },
  {
   "cell_type": "code",
   "execution_count": 16,
   "id": "640e291d-6d8a-4094-8bc2-10a591b66c6a",
   "metadata": {},
   "outputs": [
    {
     "name": "stdout",
     "output_type": "stream",
     "text": [
      "(10, 's', 10.5)\n"
     ]
    }
   ],
   "source": [
    "\n",
    "# TUPLES\n",
    "\n",
    "t = (10 , \"s\" , 10.5)\n",
    "print(t)\n",
    "# changes cannot be done once they created"
   ]
  },
  {
   "cell_type": "code",
   "execution_count": 23,
   "id": "bc67f89a-c504-42d7-b6ed-6bd3985beede",
   "metadata": {},
   "outputs": [
    {
     "name": "stdout",
     "output_type": "stream",
     "text": [
      "{1: 'burger', 'float': 10.5, 1.1: 'pizza'}\n"
     ]
    }
   ],
   "source": [
    "\n",
    "# Dictionaries\n",
    "\n",
    "d = {1:\"burger\" , \"float\" : 10.50 , 1.1 : \"pizza\"}\n",
    "print(d)"
   ]
  },
  {
   "cell_type": "code",
   "execution_count": 24,
   "id": "6c3e4b06-1e2f-43af-859c-0f74d97e6b05",
   "metadata": {},
   "outputs": [
    {
     "name": "stdout",
     "output_type": "stream",
     "text": [
      "{1: 'burger', 'integer': 10, 1.1: 'pizza'}\n"
     ]
    }
   ],
   "source": [
    "d = {1:\"burger\" , \"integer\" : 10 , 1.1 : \"pizza\"}\n",
    "print(d)"
   ]
  },
  {
   "cell_type": "code",
   "execution_count": 2,
   "id": "633a2420-eb33-400a-bdd2-a44aea316783",
   "metadata": {},
   "outputs": [
    {
     "name": "stdout",
     "output_type": "stream",
     "text": [
      "{'easy', 'is', 'Coding'}\n"
     ]
    }
   ],
   "source": [
    "\n",
    "# Sets\n",
    "\n",
    "s = {\"Coding\", \"is\", \"easy\"}\n",
    "print(s)"
   ]
  },
  {
   "cell_type": "code",
   "execution_count": 27,
   "id": "0df27c91-f50a-422c-9e42-2fe00babf51a",
   "metadata": {},
   "outputs": [
    {
     "name": "stdout",
     "output_type": "stream",
     "text": [
      "Hello, Sanket this side!\n"
     ]
    }
   ],
   "source": [
    "\n",
    "# standard output\n",
    "print(\"Hello, Sanket this side!\")"
   ]
  },
  {
   "cell_type": "code",
   "execution_count": 34,
   "id": "d7b500de-92e7-42c7-a0f5-63a0e61669ee",
   "metadata": {},
   "outputs": [
    {
     "name": "stdin",
     "output_type": "stream",
     "text": [
      "Enter your name :  sanket\n"
     ]
    },
    {
     "name": "stdout",
     "output_type": "stream",
     "text": [
      "Hello sanket how are you?\n"
     ]
    },
    {
     "name": "stdin",
     "output_type": "stream",
     "text": [
      " buddy\n"
     ]
    },
    {
     "name": "stdout",
     "output_type": "stream",
     "text": [
      "how are you, buddy\n"
     ]
    }
   ],
   "source": [
    "# standard input\n",
    "name = input(\"Enter your name : \")\n",
    "print(\"Hello \" + name + \" how are you?\")\n",
    "\n",
    "    # second syntax\n",
    "word = input()\n",
    "print(f\"how are you, {word}\")"
   ]
  },
  {
   "cell_type": "code",
   "execution_count": null,
   "id": "b51d32e5-66db-4edc-95b7-fe9d63fc3160",
   "metadata": {},
   "outputs": [],
   "source": []
  }
 ],
 "metadata": {
  "kernelspec": {
   "display_name": "Python 3 (ipykernel)",
   "language": "python",
   "name": "python3"
  },
  "language_info": {
   "codemirror_mode": {
    "name": "ipython",
    "version": 3
   },
   "file_extension": ".py",
   "mimetype": "text/x-python",
   "name": "python",
   "nbconvert_exporter": "python",
   "pygments_lexer": "ipython3",
   "version": "3.12.0"
  }
 },
 "nbformat": 4,
 "nbformat_minor": 5
}
