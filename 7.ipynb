{
 "cells": [
  {
   "cell_type": "code",
   "execution_count": 3,
   "id": "563931f0-211b-4d28-9291-de508e37f91b",
   "metadata": {},
   "outputs": [
    {
     "name": "stdout",
     "output_type": "stream",
     "text": [
      "It's just a beginning.\n"
     ]
    }
   ],
   "source": [
    "# USER-DEFINED FUNCTIONS\n",
    "\n",
    "def start():\n",
    "    print(\"It's just a beginning.\")\n",
    "\n",
    "start()"
   ]
  },
  {
   "cell_type": "code",
   "execution_count": 8,
   "id": "484c77ea-9fe8-4d67-b437-a8cae0143e2a",
   "metadata": {},
   "outputs": [
    {
     "name": "stdout",
     "output_type": "stream",
     "text": [
      "Stranger, Welcome to my world!\n"
     ]
    }
   ],
   "source": [
    "def fun(firstName):\n",
    "    print(firstName + \", Welcome to my world!\")\n",
    "\n",
    "fun(\"Stranger\")"
   ]
  },
  {
   "cell_type": "code",
   "execution_count": 13,
   "id": "42e6105a-c1cf-49d1-97db-1577b67fd7f8",
   "metadata": {},
   "outputs": [
    {
     "name": "stdout",
     "output_type": "stream",
     "text": [
      "Thomas\n",
      "Shelby\n"
     ]
    }
   ],
   "source": [
    "def fun(firstName, lastName):\n",
    "    print(firstName)\n",
    "    print(lastName)\n",
    "\n",
    "fun(\"Thomas\", \"Shelby\")"
   ]
  },
  {
   "cell_type": "code",
   "execution_count": 14,
   "id": "bc837287-3bb9-4fa2-bda0-88672c1898a7",
   "metadata": {},
   "outputs": [
    {
     "ename": "TypeError",
     "evalue": "fun() missing 1 required positional argument: 'lastName'",
     "output_type": "error",
     "traceback": [
      "\u001b[1;31m---------------------------------------------------------------------------\u001b[0m",
      "\u001b[1;31mTypeError\u001b[0m                                 Traceback (most recent call last)",
      "Cell \u001b[1;32mIn[14], line 1\u001b[0m\n\u001b[1;32m----> 1\u001b[0m \u001b[43mfun\u001b[49m\u001b[43m(\u001b[49m\u001b[38;5;124;43m\"\u001b[39;49m\u001b[38;5;124;43mThomas\u001b[39;49m\u001b[38;5;124;43m\"\u001b[39;49m\u001b[43m)\u001b[49m\n",
      "\u001b[1;31mTypeError\u001b[0m: fun() missing 1 required positional argument: 'lastName'"
     ]
    }
   ],
   "source": [
    "fun(\"Thomas\")"
   ]
  },
  {
   "cell_type": "code",
   "execution_count": 16,
   "id": "6a131ed6-456e-49f2-b8e9-871356b8606b",
   "metadata": {},
   "outputs": [
    {
     "name": "stdout",
     "output_type": "stream",
     "text": [
      "Thomas\n",
      "\n"
     ]
    }
   ],
   "source": [
    "def fun(firstName, lastName=\"\"):\n",
    "    print(firstName)\n",
    "    print(lastName)\n",
    "\n",
    "fun(\"Thomas\")"
   ]
  },
  {
   "cell_type": "markdown",
   "id": "8cc76e03-5bc6-472f-ab57-61050a729b0a",
   "metadata": {},
   "source": [
    "\n",
    "# Return\n"
   ]
  },
  {
   "cell_type": "code",
   "execution_count": 23,
   "id": "aad9a1e3-05fc-4f7a-8e73-e29d4d4c793d",
   "metadata": {},
   "outputs": [
    {
     "name": "stdout",
     "output_type": "stream",
     "text": [
      "The sum of the two numbers are:  11\n"
     ]
    }
   ],
   "source": [
    "def add_num(num1, num2):\n",
    "    sum = num1 + num2\n",
    "    return sum\n",
    "\n",
    "result = add_num(5,6)\n",
    "print(\"The sum of the two numbers are: \", result)"
   ]
  },
  {
   "cell_type": "code",
   "execution_count": 6,
   "id": "cd2677d0-ffc8-48dd-9493-49cbb99b8a8a",
   "metadata": {},
   "outputs": [
    {
     "name": "stdout",
     "output_type": "stream",
     "text": [
      "The product of the two numbers are : 30\n"
     ]
    }
   ],
   "source": [
    "def mul(num1,num2):\n",
    "    prod = num1*num2\n",
    "    return prod\n",
    "\n",
    "result = mul(6,5)\n",
    "print(\"The product of the two numbers are :\",result)"
   ]
  },
  {
   "cell_type": "code",
   "execution_count": 14,
   "id": "900e79b9-e276-4831-9556-f9cd89f68913",
   "metadata": {},
   "outputs": [
    {
     "name": "stdin",
     "output_type": "stream",
     "text": [
      "Enter the 1st number :  10\n",
      "Enter the 2nd number :  20\n"
     ]
    },
    {
     "name": "stdout",
     "output_type": "stream",
     "text": [
      "The sum of two number is:  30.0\n",
      "The difference of two number is:  -10.0\n",
      "The multiplication of two number is:  200.0\n",
      "The division of two number is:  0.5\n"
     ]
    }
   ],
   "source": [
    "# Make a function which takes two argument num1 and num2 and it perform add, sub, mul, div\n",
    "\n",
    "def calculator():\n",
    "    num1 = float(input(\"Enter the 1st number : \"))\n",
    "    num2 = float(input(\"Enter the 2nd number : \"))\n",
    "\n",
    "    result = num1 + num2\n",
    "    print(\"The sum of two number is: \",result)\n",
    "\n",
    "    result = num1 - num2\n",
    "    print(\"The difference of two number is: \",result)\n",
    "\n",
    "    result = num1 * num2\n",
    "    print(\"The multiplication of two number is: \",result)\n",
    "\n",
    "    result = num1 / num2\n",
    "    print(\"The division of two number is: \",result)\n",
    "\n",
    "calculator()"
   ]
  },
  {
   "cell_type": "code",
   "execution_count": 1,
   "id": "c128b1f3-77c8-4774-8a43-9dc52c882d3f",
   "metadata": {},
   "outputs": [
    {
     "name": "stdin",
     "output_type": "stream",
     "text": [
      "Enter the 1st number :  10\n",
      "Enter the 2nd number :  5.5\n"
     ]
    },
    {
     "name": "stdout",
     "output_type": "stream",
     "text": [
      "The sum of two number is:  15.5\n",
      "The difference of two number is:  4.5\n",
      "The multiplication of two number is:  55.0\n",
      "The division of two number is:  1.8181818181818181\n"
     ]
    },
    {
     "data": {
      "text/plain": [
       "dict"
      ]
     },
     "execution_count": 1,
     "metadata": {},
     "output_type": "execute_result"
    }
   ],
   "source": [
    "# Make a function which takes two argument num1 and num2 and it perform add, sub, mul, div\n",
    "\n",
    "def calculator():\n",
    "    num1 = float(input(\"Enter the 1st number : \"))\n",
    "    num2 = float(input(\"Enter the 2nd number : \"))\n",
    "\n",
    "    sum_result = num1 + num2\n",
    "\n",
    "    diff_result = num1 - num2\n",
    "\n",
    "    mult_result = num1 * num2\n",
    "\n",
    "    div_result = num1 / num2\n",
    "\n",
    "    return {\n",
    "        \"sum\": sum_result,\n",
    "        \"diff\": diff_result,\n",
    "        \"product\": mult_result,\n",
    "        \"division\": div_result\n",
    "    }\n",
    "            \n",
    "results = calculator()\n",
    "print(\"The sum of two number is: \",results[\"sum\"])\n",
    "print(\"The difference of two number is: \",results[\"diff\"])\n",
    "print(\"The multiplication of two number is: \",results[\"product\"])\n",
    "print(\"The division of two number is: \",results[\"division\"])\n",
    "type(results)"
   ]
  },
  {
   "cell_type": "code",
   "execution_count": 30,
   "id": "5a08086d-44c8-418e-8305-76fcc857ad1c",
   "metadata": {},
   "outputs": [
    {
     "name": "stdin",
     "output_type": "stream",
     "text": [
      "Enter the first name:  StRaNgeR\n",
      "Enter the last name:  THINgs\n"
     ]
    },
    {
     "name": "stdout",
     "output_type": "stream",
     "text": [
      "StRaNgeR THINgs --> Stranger Things\n"
     ]
    }
   ],
   "source": [
    "# Using built-in--function in the user-defined function\n",
    "# user enter first name and last name in any form \n",
    "# stRANgeR THInGs  --> Stranger Things\n",
    "\n",
    "\n",
    "def details():\n",
    "\n",
    "    f_name = input(\"Enter the first name: \")\n",
    "    l_name = input(\"Enter the last name: \")\n",
    "    full_name = f_name + \" \" + l_name\n",
    "\n",
    "    first_name = f_name.capitalize()\n",
    "    last_name = l_name.capitalize()\n",
    "    n_name = first_name + \" \" + last_name\n",
    "\n",
    "    return{\n",
    "        \"input\": full_name,\n",
    "        \"output\": n_name\n",
    "    }\n",
    "\n",
    "answer = details()\n",
    "print(answer[\"input\"] + \" --> \" + answer[\"output\"])\n"
   ]
  },
  {
   "cell_type": "code",
   "execution_count": 40,
   "id": "7cbde849-2756-4fd4-bfd2-736fed063f70",
   "metadata": {},
   "outputs": [
    {
     "name": "stdin",
     "output_type": "stream",
     "text": [
      "Enter the numbers:  16\n"
     ]
    },
    {
     "name": "stdout",
     "output_type": "stream",
     "text": [
      "Even numbers upto the 16 are [2, 4, 6, 8, 10, 12, 14, 16]\n"
     ]
    }
   ],
   "source": [
    "\n",
    "def even():\n",
    "    n = int(input(\"Enter the numbers: \"))\n",
    "    even_numbers = []\n",
    "    for i in range (1, n+1 ):\n",
    "        if i % 2 == 0:\n",
    "            even_numbers.append(i)\n",
    "    print(\"Even numbers upto the\" , n , \"are\" , even_numbers)\n",
    "\n",
    "even()"
   ]
  },
  {
   "cell_type": "markdown",
   "id": "ee7352d4-3d57-4081-8888-2f51a9db214c",
   "metadata": {},
   "source": [
    "# Lambda"
   ]
  },
  {
   "cell_type": "code",
   "execution_count": 47,
   "id": "8a10c1d2-2b27-4f2a-8858-15d033b943c4",
   "metadata": {},
   "outputs": [
    {
     "name": "stdout",
     "output_type": "stream",
     "text": [
      "21\n"
     ]
    }
   ],
   "source": [
    "# It is just like a function that used for simple operations \n",
    "# In lambda function LOOPS are not used like: for , while , if...else, etc\n",
    "# Cannot be used for two complex operation\n",
    "# They are not reading friendly\n",
    "\n",
    "\n",
    "add = lambda a, b : a+b\n",
    "print(add(10,11))"
   ]
  },
  {
   "cell_type": "code",
   "execution_count": 45,
   "id": "aea0a65b-3a0d-4abe-bb7a-5992b59d32f9",
   "metadata": {},
   "outputs": [
    {
     "name": "stdout",
     "output_type": "stream",
     "text": [
      "36\n"
     ]
    }
   ],
   "source": [
    "square = lambda a : a*a\n",
    "print(square(6))"
   ]
  },
  {
   "cell_type": "code",
   "execution_count": 50,
   "id": "eda01c35-a34b-437c-bc0a-d2be041a60f8",
   "metadata": {},
   "outputs": [
    {
     "name": "stdout",
     "output_type": "stream",
     "text": [
      "Good Morning\n"
     ]
    }
   ],
   "source": [
    "concate = lambda a, b : a+b\n",
    "print(concate(\"Good\",\" Morning\"))"
   ]
  },
  {
   "cell_type": "code",
   "execution_count": 51,
   "id": "dd7b4bc0-8d0d-4158-beae-ea55a89b2181",
   "metadata": {},
   "outputs": [
    {
     "name": "stdout",
     "output_type": "stream",
     "text": [
      "odd\n"
     ]
    }
   ],
   "source": [
    "even_or_odd = lambda x: \"even\" if x%2==0 else \"odd\"\n",
    "print(even_or_odd(15))"
   ]
  },
  {
   "cell_type": "code",
   "execution_count": 53,
   "id": "0967110a-ebc6-406f-a3ba-2f77ff2b0164",
   "metadata": {},
   "outputs": [
    {
     "name": "stdout",
     "output_type": "stream",
     "text": [
      "100\n"
     ]
    }
   ],
   "source": [
    "max_num = lambda x, y: x if x>y else y\n",
    "print(max_num(100,99))"
   ]
  },
  {
   "cell_type": "code",
   "execution_count": null,
   "id": "69bc0325-765f-428a-a5c0-f12c3afd6934",
   "metadata": {},
   "outputs": [],
   "source": []
  }
 ],
 "metadata": {
  "kernelspec": {
   "display_name": "Python 3 (ipykernel)",
   "language": "python",
   "name": "python3"
  },
  "language_info": {
   "codemirror_mode": {
    "name": "ipython",
    "version": 3
   },
   "file_extension": ".py",
   "mimetype": "text/x-python",
   "name": "python",
   "nbconvert_exporter": "python",
   "pygments_lexer": "ipython3",
   "version": "3.12.4"
  }
 },
 "nbformat": 4,
 "nbformat_minor": 5
}
