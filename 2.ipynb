{
 "cells": [
  {
   "cell_type": "code",
   "execution_count": 10,
   "id": "7839cebc-020a-43cd-b942-c40ca3bdecc8",
   "metadata": {},
   "outputs": [
    {
     "name": "stdout",
     "output_type": "stream",
     "text": [
      "['False', 'None', 'True', 'and', 'as', 'assert', 'async', 'await', 'break', 'class', 'continue', 'def', 'del', 'elif', 'else', 'except', 'finally', 'for', 'from', 'global', 'if', 'import', 'in', 'is', 'lambda', 'nonlocal', 'not', 'or', 'pass', 'raise', 'return', 'try', 'while', 'with', 'yield']\n"
     ]
    }
   ],
   "source": [
    "# What are packages?\n",
    "\n",
    "import keyword\n",
    "#pakage.module\n",
    "print(keyword.kwlist)"
   ]
  },
  {
   "cell_type": "code",
   "execution_count": 13,
   "id": "3547312f-fae8-40cb-9161-dd460cc8e201",
   "metadata": {},
   "outputs": [
    {
     "name": "stdout",
     "output_type": "stream",
     "text": [
      "5.0\n"
     ]
    }
   ],
   "source": [
    "import math\n",
    "\n",
    "result = math.sqrt(25)\n",
    "print(result)"
   ]
  },
  {
   "cell_type": "code",
   "execution_count": 14,
   "id": "3ff46819-3c6d-45e4-8a5a-df76739f23ff",
   "metadata": {},
   "outputs": [
    {
     "name": "stdout",
     "output_type": "stream",
     "text": [
      "6.0\n"
     ]
    }
   ],
   "source": [
    "from math import sqrt\n",
    "result = sqrt(36)\n",
    "print(result)"
   ]
  },
  {
   "cell_type": "code",
   "execution_count": 16,
   "id": "62737a31-ce11-4be3-bc8a-4cc9ee8c0e94",
   "metadata": {},
   "outputs": [
    {
     "name": "stdout",
     "output_type": "stream",
     "text": [
      "150\n"
     ]
    }
   ],
   "source": [
    "marks = 100\n",
    "Marks = 50\n",
    "total = marks + Marks\n",
    "print(total)"
   ]
  },
  {
   "cell_type": "code",
   "execution_count": 20,
   "id": "f52cfc51-218a-4539-9609-f82cfc40490b",
   "metadata": {},
   "outputs": [
    {
     "name": "stdout",
     "output_type": "stream",
     "text": [
      "10\n",
      "10\n"
     ]
    }
   ],
   "source": [
    "_age = 10\n",
    "print(_age)\n",
    "\n",
    "_age10 = 10\n",
    "print(_age10)\n",
    "\n"
   ]
  },
  {
   "cell_type": "code",
   "execution_count": 6,
   "id": "1364ede1-8504-46d9-b288-137fc8664f1c",
   "metadata": {},
   "outputs": [
    {
     "name": "stdout",
     "output_type": "stream",
     "text": [
      "value is greater than 2\n"
     ]
    }
   ],
   "source": [
    "x = 5\n",
    "if x>2:\n",
    "    print(\"value is greater than 2\")"
   ]
  },
  {
   "cell_type": "code",
   "execution_count": 14,
   "id": "37a671af-54e2-4092-84ab-0d042ccd6e0c",
   "metadata": {},
   "outputs": [
    {
     "name": "stdout",
     "output_type": "stream",
     "text": [
      "<class 'float'>\n",
      "<class 'str'>\n",
      "<class 'int'>\n",
      "<class 'str'>\n"
     ]
    }
   ],
   "source": [
    "print(type(3.14))\n",
    "print(type(\"Sanket\"))\n",
    "\n",
    "a = 10\n",
    "print(type(a))\n",
    "b = 'a'\n",
    "print(type(b))"
   ]
  },
  {
   "cell_type": "code",
   "execution_count": 53,
   "id": "1827f34d-66d8-4c0c-bfd2-e99e226a315a",
   "metadata": {},
   "outputs": [
    {
     "name": "stdout",
     "output_type": "stream",
     "text": [
      "['apple', 'Orange', 'Banana']\n",
      "['Kiwi', 'Orange', 'Banana']\n",
      "['Kiwi', 'Orange', 'Banana', 1, 1.1]\n",
      "Banana\n"
     ]
    }
   ],
   "source": [
    "# Lists []\n",
    "\n",
    "fruits = [\"apple\", \"Orange\", \"Banana\"]\n",
    "print(fruits)\n",
    "\n",
    "   #mutable ==> can make change once declared\n",
    "fruits = [\"Kiwi\", \"Orange\", \"Banana\"]\n",
    "print(fruits)\n",
    "\n",
    "   # heterogenous\n",
    "fruits = [\"Kiwi\", \"Orange\", \"Banana\",1 , 1.10]\n",
    "print(fruits)\n",
    "\n",
    "    #ordered ==> index is used to access the values\n",
    "print(fruits[2])"
   ]
  },
  {
   "cell_type": "code",
   "execution_count": 25,
   "id": "44e53a00-bea4-4f72-91b4-9126ee34c5f0",
   "metadata": {},
   "outputs": [
    {
     "name": "stdout",
     "output_type": "stream",
     "text": [
      "('banana', 'Grapes', 'Apple')\n",
      "(1, 2, 3.1, '10', 'Stranger')\n",
      "Stranger\n"
     ]
    }
   ],
   "source": [
    "# Tuple ()\n",
    "\n",
    "fruits = (\"banana\" , \"Grapes\" , \"Apple\")\n",
    "print(fruits)\n",
    "\n",
    "    #immutable ==>> cannot change the tupple once declared\n",
    "    #heterogenous\n",
    "test = (1 , 2 , 3.10 , \"10\", \"Stranger\")\n",
    "print(test)\n",
    "\n",
    "    #ordered ==> index is used to  access the values\n",
    "print(test[4])"
   ]
  },
  {
   "cell_type": "code",
   "execution_count": 47,
   "id": "7b6e778f-30c2-4612-bc18-165e30e0c11a",
   "metadata": {},
   "outputs": [
    {
     "name": "stdout",
     "output_type": "stream",
     "text": [
      "{10: 'a', 'b': 'bot', 'c': 'coder', 'd': 40}\n",
      "{10: 'abba', 'b': 'bot', 'c': 'coder', 'do': 40}\n",
      "abba\n",
      "40\n"
     ]
    }
   ],
   "source": [
    "# Dictionaries  {}\n",
    "\n",
    "    # key-value pair and heterogenous\n",
    "a = {10 : \"a\" , \"b\" : \"bot\" , \"c\" : \"coder\" , \"d\" : 40}\n",
    "print(a)\n",
    "\n",
    "    # mutable\n",
    "a = {10 : \"abba\" , \"b\" : \"bot\" , \"c\" : \"coder\" , \"do\" : 40}\n",
    "print(a)\n",
    "\n",
    "    # unordered ==>> key value is used to access not the index value\n",
    "print(a[10])\n",
    "print(a[\"do\"])"
   ]
  },
  {
   "cell_type": "code",
   "execution_count": 51,
   "id": "55bb7d4b-140a-40a0-9593-c7e80246cedb",
   "metadata": {},
   "outputs": [
    {
     "name": "stdout",
     "output_type": "stream",
     "text": [
      "{1, 2, 3, 'b', 'c', 'a'}\n",
      "{2, 3, 'b', 'c', 'a', 19999}\n",
      "{'d', 40, 10, 'a', 'b', 20, 'c', 30}\n"
     ]
    }
   ],
   "source": [
    "# Sets  {}\n",
    "\n",
    "    # heteregenous \n",
    "a = {1,\"a\",2,\"b\",3,\"c\"}\n",
    "print(a)\n",
    "\n",
    "    # mutable\n",
    "a = {19999,\"a\",2,\"b\",3,\"c\"}\n",
    "print(a)\n",
    "\n",
    "    # unordered ==>> not print in order\n",
    "b = {10,20,30,40,\"a\",\"b\",\"c\",\"d\"}\n",
    "print(b)"
   ]
  },
  {
   "cell_type": "code",
   "execution_count": null,
   "id": "25b28a9a-41a5-4784-8504-ba1498f27474",
   "metadata": {},
   "outputs": [],
   "source": []
  }
 ],
 "metadata": {
  "kernelspec": {
   "display_name": "Python 3 (ipykernel)",
   "language": "python",
   "name": "python3"
  },
  "language_info": {
   "codemirror_mode": {
    "name": "ipython",
    "version": 3
   },
   "file_extension": ".py",
   "mimetype": "text/x-python",
   "name": "python",
   "nbconvert_exporter": "python",
   "pygments_lexer": "ipython3",
   "version": "3.12.0"
  }
 },
 "nbformat": 4,
 "nbformat_minor": 5
}
